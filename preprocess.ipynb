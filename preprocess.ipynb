{
 "cells": [
  {
   "cell_type": "code",
   "execution_count": 2,
   "metadata": {},
   "outputs": [],
   "source": [
    "import cv2\n",
    "import numpy as np\n",
    "import os"
   ]
  },
  {
   "cell_type": "code",
   "execution_count": 3,
   "metadata": {},
   "outputs": [],
   "source": [
    "def sharpening(imgArr):\n",
    "    kernel = np.array([[-1,-1,-1], [-1,9,-1], [-1,-1,-1]])\n",
    "    return cv2.filter2D(imgArr, -1, kernel)"
   ]
  },
  {
   "cell_type": "code",
   "execution_count": 4,
   "metadata": {},
   "outputs": [],
   "source": [
    "def erode(imgArr, kernelSize=5):    \n",
    "    kernel = np.ones((kernelSize, kernelSize),np.uint8)\n",
    "    return cv2.dilate(imgArr,kernel,iterations = 1)"
   ]
  },
  {
   "cell_type": "code",
   "execution_count": 5,
   "metadata": {},
   "outputs": [],
   "source": [
    "def dilate(imgArr, kernelSize=5):\n",
    "    kernel = np.ones((kernelSize, kernelSize),np.uint8)\n",
    "    return cv2.erode(imgArr,kernel,iterations = 1)"
   ]
  },
  {
   "cell_type": "code",
   "execution_count": 126,
   "metadata": {},
   "outputs": [],
   "source": [
    "def opening(imgArr, kernelSize=5):\n",
    "    return erode(dilate(imgArr, kernelSize), kernelSize)"
   ]
  },
  {
   "cell_type": "code",
   "execution_count": 127,
   "metadata": {},
   "outputs": [],
   "source": [
    "def closing(imgArr, kernelSize=5):\n",
    "    return dilate(erode(imgArr, kernelSize), kernelSize)"
   ]
  },
  {
   "cell_type": "code",
   "execution_count": 6,
   "metadata": {},
   "outputs": [],
   "source": [
    "def binaryThresh(imgArr, threshold=175, maxVal=255):    \n",
    "    ret,th = cv2.threshold(imgArr, threshold, 255, cv2.THRESH_BINARY)\n",
    "    return th"
   ]
  },
  {
   "cell_type": "code",
   "execution_count": 232,
   "metadata": {},
   "outputs": [],
   "source": [
    "def binaryInRange(imgArr, minBound, upperBound):    \n",
    "    return cv2.inRange(imgArr, minBound, upperBound)"
   ]
  },
  {
   "cell_type": "code",
   "execution_count": 7,
   "metadata": {},
   "outputs": [],
   "source": [
    "def binaryOtsu(imgArr):    \n",
    "    ret,th = cv2.threshold(imgArr, 0, 255, cv2.THRESH_BINARY+cv2.THRESH_OTSU)\n",
    "    return th"
   ]
  },
  {
   "cell_type": "code",
   "execution_count": 72,
   "metadata": {},
   "outputs": [],
   "source": [
    "def binaryAdaptiveMean(imgArr):\n",
    "    return cv2.adaptiveThreshold(imgArr,255,cv2.ADAPTIVE_THRESH_MEAN_C,cv2.THRESH_BINARY,9,4)"
   ]
  },
  {
   "cell_type": "code",
   "execution_count": 73,
   "metadata": {},
   "outputs": [],
   "source": [
    "def binaryAdaptiveGauss(imgArr):\n",
    "    return cv2.adaptiveThreshold(imgArr,255,cv2.ADAPTIVE_THRESH_GAUSSIAN_C, cv2.THRESH_BINARY,9,4)"
   ]
  },
  {
   "cell_type": "code",
   "execution_count": 60,
   "metadata": {},
   "outputs": [],
   "source": [
    "def binarySauvola(srcPath, targetPath): \n",
    "    os.system(\"convert \"+srcPath+\" -depth 8 \"+targetPath+\".pgm\")\n",
    "    os.system(\"./binarize-sauvola -i \"+targetPath+\".pgm -o \"+targetPath+\".pgm\")\n",
    "    os.system(\"convert \"+targetPath+\".pgm -depth 8 \"+targetPath)\n",
    "    os.system(\"rm \"+targetPath+\".pgm\")"
   ]
  },
  {
   "cell_type": "code",
   "execution_count": 10,
   "metadata": {},
   "outputs": [],
   "source": [
    "def medianBlur(imgArr):\n",
    "    return cv2.medianBlur(imgArr,5)"
   ]
  },
  {
   "cell_type": "code",
   "execution_count": 501,
   "metadata": {},
   "outputs": [],
   "source": [
    "def removeEdges(imgArr):\n",
    "    imgArr = imgArr.copy()\n",
    "    vertical   = vertProjection(imgArr)\n",
    "    horizontal = horizProjection(imgArr)    \n",
    "    \n",
    "    numRows    = len(vertical)\n",
    "    numColumns = len(horizontal)\n",
    "    \n",
    "    horizPositions  = []\n",
    "    for horizIdx in range(0, len(horizontal)):\n",
    "        horizValue = horizontal[horizIdx]\n",
    "        if horizValue / numRows < 0.30:\n",
    "            horizPositions.append(horizIdx)            \n",
    "    \n",
    "    topPosition = getLeftTopBorderEdge(imgArr, horizPositions)\n",
    "    botPosition = getRightBotBorderEdge(imgArr, horizPositions)\n",
    "    for horizIdx in range(0, topPosition):\n",
    "        for vertIdx in range(0, numRows):\n",
    "            imgArr[horizIdx][vertIdx] = 255   \n",
    "    for horizIdx in range(botPosition, numColumns):\n",
    "        for vertIdx in range(0, numRows):\n",
    "            imgArr[horizIdx][vertIdx] = 255  \n",
    "        \n",
    "    vertPositions  = []\n",
    "    for vertIdx in range(0, len(vertical)):\n",
    "        vertValue = vertical[vertIdx]\n",
    "        if vertValue / numColumns < 0.30:\n",
    "            vertPositions.append(vertIdx)\n",
    "\n",
    "    leftPosition  = getLeftTopBorderEdge(imgArr, vertPositions) \n",
    "    rightPosition = getRightBotBorderEdge(imgArr, vertPositions)\n",
    "    if(leftPosition > rightPosition):\n",
    "        leftPosition = 0\n",
    "        \n",
    "    for horizIdx in range(0, numColumns):\n",
    "        for vertIdx in range(0, leftPosition):\n",
    "            imgArr[horizIdx][vertIdx] = 255   \n",
    "        for vertIdx in range(rightPosition, numRows):\n",
    "            imgArr[horizIdx][vertIdx] = 255           \n",
    "    \n",
    "    return imgArr"
   ]
  },
  {
   "cell_type": "code",
   "execution_count": 12,
   "metadata": {},
   "outputs": [],
   "source": [
    "def getRightBotBorderEdge(imgArr, positions):\n",
    "    maxInterrupt = 0\n",
    "    if(len(positions) == 0):\n",
    "        return -1\n",
    "    lastPosition = positions[-1]\n",
    "    positions = reversed(positions)\n",
    "    for position in positions:\n",
    "        maxInterrupt = lastPosition - position\n",
    "        if(maxInterrupt > 20):\n",
    "            return lastPosition\n",
    "        lastPosition = position\n",
    "    return lastPosition"
   ]
  },
  {
   "cell_type": "code",
   "execution_count": 13,
   "metadata": {},
   "outputs": [],
   "source": [
    "def getLeftTopBorderEdge(imgArr, positions):\n",
    "    maxInterrupt = 0\n",
    "    if(len(positions) == 0):\n",
    "        return 0\n",
    "    lastPosition = positions[0]\n",
    "    for position in positions:\n",
    "        maxInterrupt = position - lastPosition\n",
    "        if(maxInterrupt > 20):\n",
    "            return lastPosition\n",
    "        lastPosition = position\n",
    "    return lastPosition"
   ]
  },
  {
   "cell_type": "code",
   "execution_count": 14,
   "metadata": {},
   "outputs": [],
   "source": [
    "def vertProjection(imgArr):\n",
    "    imgArr = imgArr.astype(np.bool)\n",
    "    return np.sum(imgArr, axis=0)"
   ]
  },
  {
   "cell_type": "code",
   "execution_count": 15,
   "metadata": {},
   "outputs": [],
   "source": [
    "def horizProjection(imgArr):\n",
    "    imgArr = imgArr.astype(np.bool)\n",
    "    return np.sum(imgArr, axis=1)"
   ]
  },
  {
   "cell_type": "code",
   "execution_count": 260,
   "metadata": {},
   "outputs": [],
   "source": [
    "def binarizationFaulty(imgArr):\n",
    "    blackPixels = 0\n",
    "    whitePixels = 0\n",
    "    unique, counts = np.unique(imgArr, return_counts=True)\n",
    "    results = dict(zip(unique, counts))\n",
    "    if(0 in results):\n",
    "        blackPixels = results[0]\n",
    "    if(255 in results):\n",
    "        whitePixels = results[255]\n",
    "    total = max(blackPixels + whitePixels, 1)\n",
    "    return  blackPixels / total > 0.8 or \\\n",
    "            whitePixels / total > 0.90"
   ]
  },
  {
   "cell_type": "code",
   "execution_count": 499,
   "metadata": {},
   "outputs": [],
   "source": [
    "def binarizeImage(srcPath, targetPath):\n",
    "    print('IMG ' + srcPath)\n",
    "    imgArr = cv2.imread(srcPath, 0) \n",
    "    \n",
    "    edges = binaryEdges(imgArr)\n",
    "    fixed = removeEdges(edges)\n",
    "    if(not binarizationFaulty(fixed)):\n",
    "        cv2.imwrite(targetPath, fixed)    \n",
    "        print('fixed')\n",
    "        return\n",
    "    \n",
    "    cv2.imwrite(targetPath, edges)    \n",
    "    print('edges')"
   ]
  },
  {
   "cell_type": "code",
   "execution_count": 463,
   "metadata": {},
   "outputs": [],
   "source": [
    "def binaryEdges(imgArr):\n",
    "    ret, thresh = cv2.threshold(imgArr, 127, 255, 0)\n",
    "    imgArr, contours, hierarchy = cv2.findContours(thresh, cv2.RETR_TREE, cv2.CHAIN_APPROX_SIMPLE)\n",
    "    imgArr = cv2.drawContours(imgArr, contours, 0, (255), 1)\n",
    "    return imgArr"
   ]
  },
  {
   "cell_type": "code",
   "execution_count": 474,
   "metadata": {},
   "outputs": [],
   "source": [
    "def binarizeAll(srcPath, targetPath):    \n",
    "    for f in os.listdir(srcPath):\n",
    "        fileName = f.replace('.jpg', '')\n",
    "        binarizeImage(srcPath+fileName+'.jpg', targetPath+fileName+'.tif')"
   ]
  },
  {
   "cell_type": "code",
   "execution_count": 502,
   "metadata": {
    "scrolled": false
   },
   "outputs": [
    {
     "name": "stdout",
     "output_type": "stream",
     "text": [
      "IMG /home/bnu/Desktop/data/input/2209_vollst_Büsching_0190_00000207.jpg\n",
      "edges\n",
      "IMG /home/bnu/Desktop/data/input/0004_grimm_donner_1855_0004.jpg\n",
      "edges\n",
      "IMG /home/bnu/Desktop/data/input/0001_1433243313511_1_221_Seite_1_Bild_0000.jpg\n",
      "edges\n",
      "IMG /home/bnu/Desktop/data/input/1213 Fauriel Origine_0009_00000009.jpg\n",
      "edges\n",
      "IMG /home/bnu/Desktop/data/input/2174_Haimonskinder_0006_00000006.jpg\n",
      "edges\n",
      "IMG /home/bnu/Desktop/data/input/2227_vollst_Temme_0003_00000003.jpg\n",
      "edges\n",
      "IMG /home/bnu/Desktop/data/input/0002_1433243313511_1_221_Seite_1_Bild_0001.jpg\n",
      "fixed\n",
      "IMG /home/bnu/Desktop/data/input/2266_vollst_Sommer_0100_image_20171218_124902.jpg\n",
      "edges\n",
      "IMG /home/bnu/Desktop/data/input/00000173.jpg\n",
      "fixed\n",
      "IMG /home/bnu/Desktop/data/input/2209_vollst_Büsching_0010_00000011.jpg\n",
      "fixed\n",
      "IMG /home/bnu/Desktop/data/input/2810 Ulr v Lichtenstein_0008_00000008.jpg\n",
      "edges\n",
      "IMG /home/bnu/Desktop/data/input/1433243313511_1_16a.jpg\n",
      "edges\n",
      "IMG /home/bnu/Desktop/data/input/2227_vollst_Temme_0025_00000024.jpg\n",
      "edges\n",
      "IMG /home/bnu/Desktop/data/input/0001_grimm_donner_1855_0001.jpg\n",
      "fixed\n",
      "IMG /home/bnu/Desktop/data/input/1213 Fauriel Origine_0013_00000013.jpg\n",
      "edges\n",
      "IMG /home/bnu/Desktop/data/input/443 Le Pileur _0012_00000012.jpg\n",
      "edges\n",
      "IMG /home/bnu/Desktop/data/input/2209_vollst_Büsching_0015_00000016.jpg\n",
      "edges\n",
      "IMG /home/bnu/Desktop/data/input/2209_vollst_Büsching_0011_00000012.jpg\n",
      "edges\n",
      "IMG /home/bnu/Desktop/data/input/2209_vollst_Büsching_0211_00000230.jpg\n",
      "edges\n",
      "IMG /home/bnu/Desktop/data/input/2227_vollst_Temme_0047_00000046.jpg\n",
      "edges\n",
      "IMG /home/bnu/Desktop/data/input/0001_00000009.jpg\n",
      "fixed\n",
      "IMG /home/bnu/Desktop/data/input/2209_vollst_Büsching_0026_00000028.jpg\n",
      "edges\n",
      "IMG /home/bnu/Desktop/data/input/2209_vollst_Büsching_0132_00000143.jpg\n",
      "edges\n",
      "IMG /home/bnu/Desktop/data/input/2174_Haimonskinder_0007_00000007.jpg\n",
      "fixed\n",
      "IMG /home/bnu/Desktop/data/input/2227_vollst_Temme_0010_00000009.jpg\n",
      "fixed\n",
      "IMG /home/bnu/Desktop/data/input/2266_vollst_Sommer_0016_image_20171218_124113.jpg\n",
      "edges\n",
      "IMG /home/bnu/Desktop/data/input/2209_vollst_Büsching_0029_00000031.jpg\n",
      "fixed\n",
      "IMG /home/bnu/Desktop/data/input/2209_vollst_Büsching_0012_00000013.jpg\n",
      "fixed\n",
      "IMG /home/bnu/Desktop/data/input/2266_vollst_Sommer_0023_image_20171218_124152.jpg\n",
      "edges\n",
      "IMG /home/bnu/Desktop/data/input/2227_vollst_Temme_0048_00000047.jpg\n",
      "fixed\n",
      "IMG /home/bnu/Desktop/data/input/0003_1433243313511_1_227_Seite_1_Bild_0001.jpg\n",
      "edges\n",
      "IMG /home/bnu/Desktop/data/input/3867 Hervararsaga_0011_00000011.jpg\n",
      "edges\n",
      "IMG /home/bnu/Desktop/data/input/2209_vollst_Büsching_0122_00000133.jpg\n",
      "edges\n",
      "IMG /home/bnu/Desktop/data/input/2227_vollst_Temme_0008_00000008.jpg\n",
      "edges\n",
      "IMG /home/bnu/Desktop/data/input/2266_vollst_Sommer_0096_image_20171218_124837.jpg\n",
      "edges\n",
      "IMG /home/bnu/Desktop/data/input/582a_Hesiods_Werke_0011_00000011.jpg\n",
      "edges\n",
      "IMG /home/bnu/Desktop/data/input/2266_vollst_Sommer_0017_image_20171218_124117.jpg\n",
      "edges\n",
      "IMG /home/bnu/Desktop/data/input/0002_grimm_donner_1855_0002.jpg\n",
      "edges\n",
      "IMG /home/bnu/Desktop/data/input/2209_vollst_Büsching_0308_00000331.jpg\n",
      "edges\n",
      "IMG /home/bnu/Desktop/data/input/2209_vollst_Büsching_0019_00000021.jpg\n",
      "fixed\n"
     ]
    }
   ],
   "source": [
    "binarizeAll(  '/home/bnu/Desktop/data/input/',\n",
    "                '/home/bnu/Documents/CODE/Output/')"
   ]
  },
  {
   "cell_type": "code",
   "execution_count": null,
   "metadata": {},
   "outputs": [],
   "source": []
  }
 ],
 "metadata": {
  "kernelspec": {
   "display_name": "Python 3",
   "language": "python",
   "name": "python3"
  },
  "language_info": {
   "codemirror_mode": {
    "name": "ipython",
    "version": 3
   },
   "file_extension": ".py",
   "mimetype": "text/x-python",
   "name": "python",
   "nbconvert_exporter": "python",
   "pygments_lexer": "ipython3",
   "version": "3.6.4"
  }
 },
 "nbformat": 4,
 "nbformat_minor": 2
}
